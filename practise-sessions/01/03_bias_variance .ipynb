{
 "cells": [
  {
   "cell_type": "markdown",
   "metadata": {},
   "source": [
    "# Bias-variance tradeoff "
   ]
  },
  {
   "cell_type": "code",
   "execution_count": 1,
   "metadata": {},
   "outputs": [],
   "source": [
    "import numpy as np\n",
    "import pandas as pd\n",
    "\n",
    "from pandas import Series\n",
    "from pandas import DataFrame\n",
    "\n",
    "from sklearn.linear_model import LogisticRegression\n",
    "from plotnine import *\n",
    "\n",
    "# Local imports\n",
    "from common import *\n",
    "from convenience import *"
   ]
  },
  {
   "cell_type": "markdown",
   "metadata": {},
   "source": [
    "## I. Train two classifiers on relatively large dataset \n",
    "\n",
    "We consider here a relatively simple prediction task with a relatively small feature set and an impossible prediction task with the same feature set for comparison."
   ]
  },
  {
   "cell_type": "code",
   "execution_count": 2,
   "metadata": {},
   "outputs": [],
   "source": [
    "sampler_0 = lambda n: data_sampler(n, 8, lambda x: logit(x, Series([0, 0])))\n",
    "sampler_1 = lambda n: data_sampler(n, 8, lambda x: logit(x, Series([10, 10])))"
   ]
  },
  {
   "cell_type": "markdown",
   "metadata": {},
   "source": [
    "Again use majority voting and logistic regression as classifiers to compare"
   ]
  },
  {
   "cell_type": "code",
   "execution_count": 3,
   "metadata": {},
   "outputs": [
    {
     "data": {
      "text/plain": [
       "LogisticRegression(C=1.0, class_weight=None, dual=False, fit_intercept=True,\n",
       "          intercept_scaling=1, max_iter=100, multi_class='warn',\n",
       "          n_jobs=None, penalty='l2', random_state=None, solver='lbfgs',\n",
       "          tol=0.0001, verbose=0, warm_start=False)"
      ]
     },
     "execution_count": 3,
     "metadata": {},
     "output_type": "execute_result"
    }
   ],
   "source": [
    "train = sampler_0(100)\n",
    "features = list(train.columns.values[:-1])\n",
    "clf_1 = MajorityVoting(features)\n",
    "clf_1.fit(train, train['y'])\n",
    "clf_2 = LogisticRegression(solver = 'lbfgs')\n",
    "clf_2.fit(train[features], train['y'])"
   ]
  },
  {
   "cell_type": "markdown",
   "metadata": {},
   "source": [
    "Simple test run to see that all functions are correctly defined"
   ]
  },
  {
   "cell_type": "code",
   "execution_count": 4,
   "metadata": {},
   "outputs": [
    {
     "name": "stdout",
     "output_type": "stream",
     "text": [
      "MV training error: 11.00%\n",
      "LR training error: 37.00%\n"
     ]
    }
   ],
   "source": [
    "print('MV training error: {:.2f}%'.format(empirical_risk(clf_1, train[features], train['y'])))\n",
    "print('LR training error: {:.2f}%'.format(empirical_risk(clf_2, train[features], train['y'])))"
   ]
  },
  {
   "cell_type": "markdown",
   "metadata": {},
   "source": [
    "## II. Measuring training and test error on different dataset sizes"
   ]
  },
  {
   "cell_type": "markdown",
   "metadata": {},
   "source": [
    "### Configuration and template for data collection for an impossible task"
   ]
  },
  {
   "cell_type": "code",
   "execution_count": 8,
   "metadata": {},
   "outputs": [
    {
     "data": {
      "text/html": [
       "<div>\n",
       "<style scoped>\n",
       "    .dataframe tbody tr th:only-of-type {\n",
       "        vertical-align: middle;\n",
       "    }\n",
       "\n",
       "    .dataframe tbody tr th {\n",
       "        vertical-align: top;\n",
       "    }\n",
       "\n",
       "    .dataframe thead th {\n",
       "        text-align: right;\n",
       "    }\n",
       "</style>\n",
       "<table border=\"1\" class=\"dataframe\">\n",
       "  <thead>\n",
       "    <tr style=\"text-align: right;\">\n",
       "      <th></th>\n",
       "      <th></th>\n",
       "      <th></th>\n",
       "      <th></th>\n",
       "      <th>error</th>\n",
       "    </tr>\n",
       "    <tr>\n",
       "      <th>size</th>\n",
       "      <th>method</th>\n",
       "      <th>type</th>\n",
       "      <th>experiment</th>\n",
       "      <th></th>\n",
       "    </tr>\n",
       "  </thead>\n",
       "  <tbody>\n",
       "    <tr>\n",
       "      <th rowspan=\"5\" valign=\"top\">5</th>\n",
       "      <th rowspan=\"5\" valign=\"top\">LR</th>\n",
       "      <th rowspan=\"5\" valign=\"top\">test</th>\n",
       "      <th>0</th>\n",
       "      <td>NaN</td>\n",
       "    </tr>\n",
       "    <tr>\n",
       "      <th>1</th>\n",
       "      <td>NaN</td>\n",
       "    </tr>\n",
       "    <tr>\n",
       "      <th>2</th>\n",
       "      <td>NaN</td>\n",
       "    </tr>\n",
       "    <tr>\n",
       "      <th>3</th>\n",
       "      <td>NaN</td>\n",
       "    </tr>\n",
       "    <tr>\n",
       "      <th>4</th>\n",
       "      <td>NaN</td>\n",
       "    </tr>\n",
       "  </tbody>\n",
       "</table>\n",
       "</div>"
      ],
      "text/plain": [
       "                             error\n",
       "size method type experiment       \n",
       "5    LR     test 0             NaN\n",
       "                 1             NaN\n",
       "                 2             NaN\n",
       "                 3             NaN\n",
       "                 4             NaN"
      ]
     },
     "execution_count": 8,
     "metadata": {},
     "output_type": "execute_result"
    }
   ],
   "source": [
    "k = 100\n",
    "sizes = [5, 25, 125, 625]\n",
    "\n",
    "result = (combine_categories({'size': sizes, 'method': ['MV', 'LR'], 'type': ['training', 'test'], 'experiment': list(range(k))})\n",
    "         .assign(error = np.nan)\n",
    "         .set_index(['size', 'method', 'type', 'experiment'])\n",
    "         .sort_index())\n",
    "head(result)"
   ]
  },
  {
   "cell_type": "markdown",
   "metadata": {},
   "source": [
    "### Experiment"
   ]
  },
  {
   "cell_type": "code",
   "execution_count": 9,
   "metadata": {},
   "outputs": [
    {
     "data": {
      "application/vnd.jupyter.widget-view+json": {
       "model_id": "f61ca6c086ca47a8a9c30e81a470a523",
       "version_major": 2,
       "version_minor": 0
      },
      "text/plain": [
       "HBox(children=(IntProgress(value=0, description='Size: ___5', style=ProgressStyle(description_width='initial')…"
      ]
     },
     "metadata": {},
     "output_type": "display_data"
    },
    {
     "data": {
      "application/vnd.jupyter.widget-view+json": {
       "model_id": "64584d5d45344f0a9a3fb4817a02094f",
       "version_major": 2,
       "version_minor": 0
      },
      "text/plain": [
       "HBox(children=(IntProgress(value=0, description='Size: __25', style=ProgressStyle(description_width='initial')…"
      ]
     },
     "metadata": {},
     "output_type": "display_data"
    },
    {
     "data": {
      "application/vnd.jupyter.widget-view+json": {
       "model_id": "d7595e8d54ca4bf39723d04b7036bf93",
       "version_major": 2,
       "version_minor": 0
      },
      "text/plain": [
       "HBox(children=(IntProgress(value=0, description='Size: _125', style=ProgressStyle(description_width='initial')…"
      ]
     },
     "metadata": {},
     "output_type": "display_data"
    },
    {
     "data": {
      "application/vnd.jupyter.widget-view+json": {
       "model_id": "99837eea5977445eae675314d82f47ae",
       "version_major": 2,
       "version_minor": 0
      },
      "text/plain": [
       "HBox(children=(IntProgress(value=0, description='Size: _625', style=ProgressStyle(description_width='initial')…"
      ]
     },
     "metadata": {},
     "output_type": "display_data"
    },
    {
     "data": {
      "text/html": [
       "<div>\n",
       "<style scoped>\n",
       "    .dataframe tbody tr th:only-of-type {\n",
       "        vertical-align: middle;\n",
       "    }\n",
       "\n",
       "    .dataframe tbody tr th {\n",
       "        vertical-align: top;\n",
       "    }\n",
       "\n",
       "    .dataframe thead tr th {\n",
       "        text-align: left;\n",
       "    }\n",
       "\n",
       "    .dataframe thead tr:last-of-type th {\n",
       "        text-align: right;\n",
       "    }\n",
       "</style>\n",
       "<table border=\"1\" class=\"dataframe\">\n",
       "  <thead>\n",
       "    <tr>\n",
       "      <th></th>\n",
       "      <th></th>\n",
       "      <th colspan=\"4\" halign=\"left\">error</th>\n",
       "    </tr>\n",
       "    <tr>\n",
       "      <th></th>\n",
       "      <th>method</th>\n",
       "      <th colspan=\"2\" halign=\"left\">LR</th>\n",
       "      <th colspan=\"2\" halign=\"left\">MV</th>\n",
       "    </tr>\n",
       "    <tr>\n",
       "      <th></th>\n",
       "      <th>type</th>\n",
       "      <th>test</th>\n",
       "      <th>training</th>\n",
       "      <th>test</th>\n",
       "      <th>training</th>\n",
       "    </tr>\n",
       "    <tr>\n",
       "      <th>size</th>\n",
       "      <th>experiment</th>\n",
       "      <th></th>\n",
       "      <th></th>\n",
       "      <th></th>\n",
       "      <th></th>\n",
       "    </tr>\n",
       "  </thead>\n",
       "  <tbody>\n",
       "    <tr>\n",
       "      <th rowspan=\"5\" valign=\"top\">625</th>\n",
       "      <th>95</th>\n",
       "      <td>44.32</td>\n",
       "      <td>45.28</td>\n",
       "      <td>48.80</td>\n",
       "      <td>26.08</td>\n",
       "    </tr>\n",
       "    <tr>\n",
       "      <th>96</th>\n",
       "      <td>47.84</td>\n",
       "      <td>44.48</td>\n",
       "      <td>49.44</td>\n",
       "      <td>26.72</td>\n",
       "    </tr>\n",
       "    <tr>\n",
       "      <th>97</th>\n",
       "      <td>51.36</td>\n",
       "      <td>47.04</td>\n",
       "      <td>53.12</td>\n",
       "      <td>24.64</td>\n",
       "    </tr>\n",
       "    <tr>\n",
       "      <th>98</th>\n",
       "      <td>50.08</td>\n",
       "      <td>46.08</td>\n",
       "      <td>49.76</td>\n",
       "      <td>26.88</td>\n",
       "    </tr>\n",
       "    <tr>\n",
       "      <th>99</th>\n",
       "      <td>49.60</td>\n",
       "      <td>43.84</td>\n",
       "      <td>51.52</td>\n",
       "      <td>23.36</td>\n",
       "    </tr>\n",
       "  </tbody>\n",
       "</table>\n",
       "</div>"
      ],
      "text/plain": [
       "                 error                         \n",
       "method              LR              MV         \n",
       "type              test training   test training\n",
       "size experiment                                \n",
       "625  95          44.32    45.28  48.80    26.08\n",
       "     96          47.84    44.48  49.44    26.72\n",
       "     97          51.36    47.04  53.12    24.64\n",
       "     98          50.08    46.08  49.76    26.88\n",
       "     99          49.60    43.84  51.52    23.36"
      ]
     },
     "execution_count": 9,
     "metadata": {},
     "output_type": "execute_result"
    }
   ],
   "source": [
    "from tqdm import tnrange, tqdm_notebook\n",
    "\n",
    "features = list(sampler_0(1).columns.values[:-1])\n",
    "for size in sizes:\n",
    "    for experiment in tnrange(k, desc = 'Size: {:_>4}'.format(size)):\n",
    "        \n",
    "        train = sampler_0(size)\n",
    "        test = sampler_0(size)\n",
    "        clf_1.fit(train[features], train['y'])\n",
    "        result.loc[(size, 'MV', 'training', experiment), 'error'] = empirical_risk(clf_1, train[features], train['y'])\n",
    "        result.loc[(size, 'MV', 'test',  experiment), 'error'] = empirical_risk(clf_1, test[features], test['y'])\n",
    "\n",
    "        try:\n",
    "            clf_2.fit(train[features], train['y'])\n",
    "        except:\n",
    "            continue\n",
    "\n",
    "        result.loc[(size, 'LR', 'training', experiment), 'error'] = empirical_risk(clf_2, train[features], train['y'])\n",
    "        result.loc[(size, 'LR', 'test', experiment), 'error'] = empirical_risk(clf_2, test[features], test['y'])\n",
    "        \n",
    "        \n",
    "tail(result.sort_index().unstack(['method', 'type'])) "
   ]
  },
  {
   "cell_type": "markdown",
   "metadata": {},
   "source": [
    "### Visualisation of training and test errors"
   ]
  },
  {
   "cell_type": "code",
   "execution_count": 22,
   "metadata": {},
   "outputs": [
    {
     "data": {
      "text/html": [
       "<div>\n",
       "<style scoped>\n",
       "    .dataframe tbody tr th:only-of-type {\n",
       "        vertical-align: middle;\n",
       "    }\n",
       "\n",
       "    .dataframe tbody tr th {\n",
       "        vertical-align: top;\n",
       "    }\n",
       "\n",
       "    .dataframe thead th {\n",
       "        text-align: right;\n",
       "    }\n",
       "</style>\n",
       "<table border=\"1\" class=\"dataframe\">\n",
       "  <thead>\n",
       "    <tr style=\"text-align: right;\">\n",
       "      <th></th>\n",
       "      <th>size</th>\n",
       "      <th>method</th>\n",
       "      <th>type</th>\n",
       "      <th>experiment</th>\n",
       "      <th>error</th>\n",
       "      <th>risk</th>\n",
       "    </tr>\n",
       "  </thead>\n",
       "  <tbody>\n",
       "    <tr>\n",
       "      <th>0</th>\n",
       "      <td>5</td>\n",
       "      <td>LR</td>\n",
       "      <td>test</td>\n",
       "      <td>0</td>\n",
       "      <td>100.0</td>\n",
       "      <td>50</td>\n",
       "    </tr>\n",
       "    <tr>\n",
       "      <th>1</th>\n",
       "      <td>5</td>\n",
       "      <td>LR</td>\n",
       "      <td>test</td>\n",
       "      <td>1</td>\n",
       "      <td>40.0</td>\n",
       "      <td>50</td>\n",
       "    </tr>\n",
       "    <tr>\n",
       "      <th>2</th>\n",
       "      <td>5</td>\n",
       "      <td>LR</td>\n",
       "      <td>test</td>\n",
       "      <td>2</td>\n",
       "      <td>80.0</td>\n",
       "      <td>50</td>\n",
       "    </tr>\n",
       "    <tr>\n",
       "      <th>3</th>\n",
       "      <td>5</td>\n",
       "      <td>LR</td>\n",
       "      <td>test</td>\n",
       "      <td>3</td>\n",
       "      <td>40.0</td>\n",
       "      <td>50</td>\n",
       "    </tr>\n",
       "    <tr>\n",
       "      <th>4</th>\n",
       "      <td>5</td>\n",
       "      <td>LR</td>\n",
       "      <td>test</td>\n",
       "      <td>4</td>\n",
       "      <td>20.0</td>\n",
       "      <td>50</td>\n",
       "    </tr>\n",
       "  </tbody>\n",
       "</table>\n",
       "</div>"
      ],
      "text/plain": [
       "  size method  type  experiment  error  risk\n",
       "0    5     LR  test           0  100.0    50\n",
       "1    5     LR  test           1   40.0    50\n",
       "2    5     LR  test           2   80.0    50\n",
       "3    5     LR  test           3   40.0    50\n",
       "4    5     LR  test           4   20.0    50"
      ]
     },
     "execution_count": 22,
     "metadata": {},
     "output_type": "execute_result"
    }
   ],
   "source": [
    "from pandas.api.types import CategoricalDtype\n",
    "SizeType = CategoricalDtype(sizes, ordered = True)\n",
    "TypeType = CategoricalDtype(['training', 'test'], ordered = True)\n",
    "df = (result.reset_index()\n",
    "      .assign(size = lambda df: df['size'].astype(SizeType))\n",
    "      .assign(type = lambda df: df['type'].astype(TypeType))\n",
    "      .pipe(lambda df: df.loc[~df['error'].isna(), :])\n",
    "      .assign(risk = 50))\n",
    "    \n",
    "df.to_csv('results/training_bias.csv', index = False)\n",
    "head(df)"
   ]
  },
  {
   "cell_type": "code",
   "execution_count": 24,
   "metadata": {},
   "outputs": [
    {
     "data": {
      "image/png": "[encoded data removed]",
      "text/plain": [
       "<Figure size 640x480 with 4 Axes>"
      ]
     },
     "metadata": {},
     "output_type": "display_data"
    },
    {
     "data": {
      "text/plain": [
       "<ggplot: (7556188308)>"
      ]
     },
     "metadata": {},
     "output_type": "display_data"
    }
   ],
   "source": [
    "p = ggplot(data = df)\n",
    "p = p + geom_boxplot(aes(x ='size', y = 'error', fill = 'type'))\n",
    "p = p + geom_hline(aes(yintercept ='risk'), linetype = ':')\n",
    "p = p + facet_grid(['method', 'type']) \n",
    "p.save('training_bias_1.pdf', path='results', height=6, width=12, verbose=False)\n",
    "display(p)\n",
    "\n",
    "\n"
   ]
  },
  {
   "cell_type": "markdown",
   "metadata": {},
   "source": [
    "### Visualising optimism"
   ]
  },
  {
   "cell_type": "markdown",
   "metadata": {},
   "source": [
    "Lets choose experiments where test and training error is present and compute the difference between training and test errors: $$\\Delta = error_{test}-error_{train}$$\n"
   ]
  },
  {
   "cell_type": "code",
   "execution_count": 81,
   "metadata": {},
   "outputs": [
    {
     "data": {
      "text/html": [
       "<div>\n",
       "<style scoped>\n",
       "    .dataframe tbody tr th:only-of-type {\n",
       "        vertical-align: middle;\n",
       "    }\n",
       "\n",
       "    .dataframe tbody tr th {\n",
       "        vertical-align: top;\n",
       "    }\n",
       "\n",
       "    .dataframe thead th {\n",
       "        text-align: right;\n",
       "    }\n",
       "</style>\n",
       "<table border=\"1\" class=\"dataframe\">\n",
       "  <thead>\n",
       "    <tr style=\"text-align: right;\">\n",
       "      <th></th>\n",
       "      <th>size</th>\n",
       "      <th>method</th>\n",
       "      <th>experiment</th>\n",
       "      <th>optimism</th>\n",
       "      <th>mean_optimism</th>\n",
       "    </tr>\n",
       "  </thead>\n",
       "  <tbody>\n",
       "    <tr>\n",
       "      <th>0</th>\n",
       "      <td>5</td>\n",
       "      <td>LR</td>\n",
       "      <td>0</td>\n",
       "      <td>100.0</td>\n",
       "      <td>38.297872</td>\n",
       "    </tr>\n",
       "    <tr>\n",
       "      <th>1</th>\n",
       "      <td>5</td>\n",
       "      <td>LR</td>\n",
       "      <td>1</td>\n",
       "      <td>40.0</td>\n",
       "      <td>38.297872</td>\n",
       "    </tr>\n",
       "    <tr>\n",
       "      <th>2</th>\n",
       "      <td>5</td>\n",
       "      <td>LR</td>\n",
       "      <td>2</td>\n",
       "      <td>80.0</td>\n",
       "      <td>38.297872</td>\n",
       "    </tr>\n",
       "    <tr>\n",
       "      <th>3</th>\n",
       "      <td>5</td>\n",
       "      <td>LR</td>\n",
       "      <td>3</td>\n",
       "      <td>20.0</td>\n",
       "      <td>38.297872</td>\n",
       "    </tr>\n",
       "    <tr>\n",
       "      <th>4</th>\n",
       "      <td>5</td>\n",
       "      <td>LR</td>\n",
       "      <td>4</td>\n",
       "      <td>20.0</td>\n",
       "      <td>38.297872</td>\n",
       "    </tr>\n",
       "  </tbody>\n",
       "</table>\n",
       "</div>"
      ],
      "text/plain": [
       "  size method  experiment  optimism  mean_optimism\n",
       "0    5     LR           0     100.0      38.297872\n",
       "1    5     LR           1      40.0      38.297872\n",
       "2    5     LR           2      80.0      38.297872\n",
       "3    5     LR           3      20.0      38.297872\n",
       "4    5     LR           4      20.0      38.297872"
      ]
     },
     "execution_count": 81,
     "metadata": {},
     "output_type": "execute_result"
    }
   ],
   "source": [
    "df = (result.unstack('type').reset_index()\n",
    "      .assign(size = lambda df: df['size'].astype(SizeType))\n",
    "      .assign(optimism = lambda df: df[('error','test')] - df[('error','training')])\n",
    "      .pipe(lambda df: df.loc[~df['optimism'].isna(), ['size', 'method', 'experiment','optimism']]))\n",
    "\n",
    "df = df.groupby(['size', 'method']).apply(\n",
    "        lambda df: df.assign(mean_optimism = lambda df:df['optimism'].mean()))\n",
    "\n",
    "df.columns = df.columns.droplevel(1)\n",
    "head(df)"
   ]
  },
  {
   "cell_type": "code",
   "execution_count": 85,
   "metadata": {},
   "outputs": [
    {
     "data": {
      "image/png": "[encoded data removed]",
      "text/plain": [
       "<Figure size 640x480 with 4 Axes>"
      ]
     },
     "metadata": {},
     "output_type": "display_data"
    },
    {
     "data": {
      "text/plain": [
       "<ggplot: (7555967436)>"
      ]
     },
     "metadata": {},
     "output_type": "display_data"
    }
   ],
   "source": [
    "p = ggplot(df.loc[df['size'].isin([125, 625]),:])\n",
    "p = p + geom_histogram(aes(x = 'optimism', y = '..density..'), binwidth=2.5, alpha=0.5)\n",
    "p = p + geom_density(aes(x = 'optimism'), color=\"blue\")\n",
    "p = p + geom_vline(aes(xintercept = 'mean_optimism'), color = 'red', linetype = '--')\n",
    "p = p + facet_grid(['method', 'size'])\n",
    "p.save('training_bias_2.pdf', path='results', height=6, width=12, verbose=False)\n",
    "display(p)"
   ]
  },
  {
   "cell_type": "code",
   "execution_count": 86,
   "metadata": {},
   "outputs": [],
   "source": [
    "### Visualising correlation between training error and optimism"
   ]
  },
  {
   "cell_type": "code",
   "execution_count": 104,
   "metadata": {},
   "outputs": [
    {
     "data": {
      "text/html": [
       "<div>\n",
       "<style scoped>\n",
       "    .dataframe tbody tr th:only-of-type {\n",
       "        vertical-align: middle;\n",
       "    }\n",
       "\n",
       "    .dataframe tbody tr th {\n",
       "        vertical-align: top;\n",
       "    }\n",
       "\n",
       "    .dataframe thead th {\n",
       "        text-align: right;\n",
       "    }\n",
       "</style>\n",
       "<table border=\"1\" class=\"dataframe\">\n",
       "  <thead>\n",
       "    <tr style=\"text-align: right;\">\n",
       "      <th></th>\n",
       "      <th>size</th>\n",
       "      <th>method</th>\n",
       "      <th>experiment</th>\n",
       "      <th>optimism</th>\n",
       "      <th>training</th>\n",
       "      <th>mean_optimism</th>\n",
       "      <th>mean_training</th>\n",
       "      <th>cor_training</th>\n",
       "    </tr>\n",
       "  </thead>\n",
       "  <tbody>\n",
       "    <tr>\n",
       "      <th>0</th>\n",
       "      <td>5</td>\n",
       "      <td>LR</td>\n",
       "      <td>0</td>\n",
       "      <td>100.0</td>\n",
       "      <td>0.0</td>\n",
       "      <td>38.297872</td>\n",
       "      <td>10.212766</td>\n",
       "      <td>38.297872</td>\n",
       "    </tr>\n",
       "    <tr>\n",
       "      <th>1</th>\n",
       "      <td>5</td>\n",
       "      <td>LR</td>\n",
       "      <td>1</td>\n",
       "      <td>40.0</td>\n",
       "      <td>0.0</td>\n",
       "      <td>38.297872</td>\n",
       "      <td>10.212766</td>\n",
       "      <td>38.297872</td>\n",
       "    </tr>\n",
       "    <tr>\n",
       "      <th>2</th>\n",
       "      <td>5</td>\n",
       "      <td>LR</td>\n",
       "      <td>2</td>\n",
       "      <td>80.0</td>\n",
       "      <td>0.0</td>\n",
       "      <td>38.297872</td>\n",
       "      <td>10.212766</td>\n",
       "      <td>38.297872</td>\n",
       "    </tr>\n",
       "    <tr>\n",
       "      <th>3</th>\n",
       "      <td>5</td>\n",
       "      <td>LR</td>\n",
       "      <td>3</td>\n",
       "      <td>20.0</td>\n",
       "      <td>20.0</td>\n",
       "      <td>38.297872</td>\n",
       "      <td>10.212766</td>\n",
       "      <td>58.297872</td>\n",
       "    </tr>\n",
       "    <tr>\n",
       "      <th>4</th>\n",
       "      <td>5</td>\n",
       "      <td>LR</td>\n",
       "      <td>4</td>\n",
       "      <td>20.0</td>\n",
       "      <td>0.0</td>\n",
       "      <td>38.297872</td>\n",
       "      <td>10.212766</td>\n",
       "      <td>38.297872</td>\n",
       "    </tr>\n",
       "  </tbody>\n",
       "</table>\n",
       "</div>"
      ],
      "text/plain": [
       "  size method  experiment  optimism  training  mean_optimism  mean_training  \\\n",
       "0    5     LR           0     100.0       0.0      38.297872      10.212766   \n",
       "1    5     LR           1      40.0       0.0      38.297872      10.212766   \n",
       "2    5     LR           2      80.0       0.0      38.297872      10.212766   \n",
       "3    5     LR           3      20.0      20.0      38.297872      10.212766   \n",
       "4    5     LR           4      20.0       0.0      38.297872      10.212766   \n",
       "\n",
       "   cor_training  \n",
       "0     38.297872  \n",
       "1     38.297872  \n",
       "2     38.297872  \n",
       "3     58.297872  \n",
       "4     38.297872  "
      ]
     },
     "execution_count": 104,
     "metadata": {},
     "output_type": "execute_result"
    }
   ],
   "source": [
    "df = (result.unstack('type').reset_index()\n",
    "      .assign(size = lambda df: df['size'].astype(SizeType))\n",
    "      .assign(optimism = lambda df: df[('error','test')] - df[('error','training')])\n",
    "      .assign(training = lambda df: df[('error','training')])\n",
    "      .pipe(lambda df: df.loc[~df['optimism'].isna(), ['size', 'method', 'experiment', 'training', 'optimism']]))\n",
    "\n",
    "df = df.groupby(['size', 'method']).apply(\n",
    "        lambda df: df.assign(mean_optimism = lambda df:df['optimism'].mean()))\n",
    "\n",
    "df = df.groupby(['size', 'method']).apply(\n",
    "        lambda df: df.assign(mean_training = lambda df:df['training'].mean()))\n",
    "\n",
    "df = df.groupby(['size', 'method']).apply(\n",
    "        lambda df: df.assign(cor_training = lambda df:df['training'] + df['mean_optimism']))\n",
    "\n",
    "\n",
    "\n",
    "\n",
    "\n",
    "df.columns = df.columns.droplevel(1)\n",
    "head(df)"
   ]
  },
  {
   "cell_type": "code",
   "execution_count": 111,
   "metadata": {},
   "outputs": [
    {
     "name": "stderr",
     "output_type": "stream",
     "text": [
      "/anaconda3/envs/machine-learning/lib/python3.6/site-packages/plotnine/layer.py:449: UserWarning: geom_point : Removed 1 rows containing missing values.\n",
      "  self.data = self.geom.handle_na(self.data)\n",
      "/anaconda3/envs/machine-learning/lib/python3.6/site-packages/plotnine/layer.py:449: UserWarning: geom_point : Removed 1 rows containing missing values.\n",
      "  self.data = self.geom.handle_na(self.data)\n"
     ]
    },
    {
     "data": {
      "image/png": "[encoded data removed]",
      "text/plain": [
       "<Figure size 640x480 with 1 Axes>"
      ]
     },
     "metadata": {},
     "output_type": "display_data"
    },
    {
     "data": {
      "text/plain": [
       "<ggplot: (7556033249)>"
      ]
     },
     "metadata": {},
     "output_type": "display_data"
    }
   ],
   "source": [
    "p = ggplot(df.loc[(df['size'] == 125) & (df['method'] == 'LR'),:])\n",
    "p = p + geom_point(aes(x='training', y='optimism'), alpha=0.5)\n",
    "p = p + geom_hline(aes(yintercept = 'mean_optimism'), color = 'red', linetype = '--')\n",
    "p = p + geom_vline(aes(xintercept = 'mean_training'), color = 'blue', linetype = '--')\n",
    "p = p + xlim(30,50)\n",
    "p.save('training_bias_3.pdf', path='results', height=6, width=12, verbose=False)\n",
    "display(p)"
   ]
  },
  {
   "cell_type": "code",
   "execution_count": 42,
   "metadata": {},
   "outputs": [],
   "source": [
    "%config IPCompleter.greedy=True"
   ]
  }
 ],
 "metadata": {
  "kernelspec": {
   "display_name": "Python 3",
   "language": "python",
   "name": "python3"
  },
  "language_info": {
   "codemirror_mode": {
    "name": "ipython",
    "version": 3
   },
   "file_extension": ".py",
   "mimetype": "text/x-python",
   "name": "python",
   "nbconvert_exporter": "python",
   "pygments_lexer": "ipython3",
   "version": "3.6.8"
  }
 },
 "nbformat": 4,
 "nbformat_minor": 2
}
