{
 "cells": [
  {
   "cell_type": "code",
   "execution_count": 1,
   "metadata": {},
   "outputs": [],
   "source": [
    "from pandas_datareader import data\n",
    "tickers = ['AAPL', 'MSFT', 'GOOGL']\n",
    "\n",
    "start_date = '2015-01-01'\n",
    "end_date   = '2018-12-31'\n",
    "\n",
    "panel_data = data.DataReader(tickers, 'iex', start_date, end_date)\n",
    "panel_data['open'].to_csv('stock_data.csv')"
   ]
  }
 ],
 "metadata": {
  "kernelspec": {
   "display_name": "Python 3",
   "language": "python",
   "name": "python3"
  },
  "language_info": {
   "codemirror_mode": {
    "name": "ipython",
    "version": 3
   },
   "file_extension": ".py",
   "mimetype": "text/x-python",
   "name": "python",
   "nbconvert_exporter": "python",
   "pygments_lexer": "ipython3",
   "version": "3.6.8"
  }
 },
 "nbformat": 4,
 "nbformat_minor": 2
}
