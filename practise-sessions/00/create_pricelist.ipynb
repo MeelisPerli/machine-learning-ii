{
 "cells": [
  {
   "cell_type": "code",
   "execution_count": 4,
   "metadata": {},
   "outputs": [],
   "source": [
    "from pandas import read_csv"
   ]
  },
  {
   "cell_type": "code",
   "execution_count": 16,
   "metadata": {},
   "outputs": [],
   "source": [
    "df = (read_csv('pricelist_0.csv', sep='\\t', header = None)\n",
    "      .drop(columns = [5, 7]) \n",
    "      .rename(columns = {0: 'Motherboard', 1: 'CPU socket', 2: 'Form factor', 3: 'RAM slots', 4: 'Max RAM', 6: 'Price' })\n",
    "     )\n",
    "df.to_csv('pricelist.csv', header=True, index = False)"
   ]
  }
 ],
 "metadata": {
  "kernelspec": {
   "display_name": "Python 3",
   "language": "python",
   "name": "python3"
  },
  "language_info": {
   "codemirror_mode": {
    "name": "ipython",
    "version": 3
   },
   "file_extension": ".py",
   "mimetype": "text/x-python",
   "name": "python",
   "nbconvert_exporter": "python",
   "pygments_lexer": "ipython3",
   "version": "3.6.8"
  }
 },
 "nbformat": 4,
 "nbformat_minor": 2
}
