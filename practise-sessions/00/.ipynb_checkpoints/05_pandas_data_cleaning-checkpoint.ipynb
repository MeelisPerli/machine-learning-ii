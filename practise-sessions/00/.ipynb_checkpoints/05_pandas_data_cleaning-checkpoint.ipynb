{
 "cells": [
  {
   "cell_type": "code",
   "execution_count": 1,
   "metadata": {},
   "outputs": [
    {
     "ename": "SyntaxError",
     "evalue": "invalid syntax (<ipython-input-1-0e0d3fa0b66a>, line 3)",
     "output_type": "error",
     "traceback": [
      "\u001b[0;36m  File \u001b[0;32m\"<ipython-input-1-0e0d3fa0b66a>\"\u001b[0;36m, line \u001b[0;32m3\u001b[0m\n\u001b[0;31m    Documentations sources\u001b[0m\n\u001b[0m                         ^\u001b[0m\n\u001b[0;31mSyntaxError\u001b[0m\u001b[0;31m:\u001b[0m invalid syntax\n"
     ]
    }
   ],
   "source": [
    "# Data cleaning and filtering\n",
    "\n",
    "Documentations sources\n",
    "\n",
    "* https://www.tutorialspoint.com/python_pandas/\n",
    "\n",
    "More advanced topics are discussed in the following sources\n",
    "\n",
    "* https://tomaugspurger.github.io\n",
    "* https://medium.com/dunder-data/selecting-subsets-of-data-in-pandas-39e811c81a0c\n",
    "* https://medium.com/dunder-data/selecting-subsets-of-data-in-pandas-part-3-d5704b4b9116\n",
    "* https://medium.com/dunder-data/selecting-subsets-of-data-in-pandas-part-4-c4216f84d388"
   ]
  },
  {
   "cell_type": "markdown",
   "metadata": {},
   "source": [
    "## II. Principles of data cleaning\n",
    "\n",
    "* A successful data cleaning pipeline is a compromise between two conflicting principles\n",
    "\n",
    "  * **Trust no one!**\n",
    "  * **Get things done!**\n",
    "\n",
    "* Normally one starts with exporatory data analysis to find:\n",
    "  \n",
    "  * invariants to check\n",
    "  * artefacts and input errors to correct\n",
    "  * normalise information in the fields \n",
    "  * remove duplicated information\n",
    "  * resolve inconsistencies between different fields\n",
    "\n",
    "* \n",
    "\n"
   ]
  },
  {
   "cell_type": "code",
   "execution_count": null,
   "metadata": {},
   "outputs": [],
   "source": [
    "##\n",
    "Tidy Data in Action\n",
    "https://tomaugspurger.github.io/Tidy%20Data%20in%20Action.html\n",
    "\n",
    ">>> import pandas as pd\n",
    ">>> df = pd.read_csv(\"dup.csv\")\n",
    ">>> ids = df[\"ID\"]\n",
    ">>> df[ids.isin(ids[ids.duplicated()])].sort(\"ID\")\n",
    "\n",
    "statistical functions\n",
    "window functions\n",
    "aggreagations"
   ]
  },
  {
   "cell_type": "code",
   "execution_count": null,
   "metadata": {},
   "outputs": [],
   "source": [
    "%config IPCompleter.greedy=True"
   ]
  }
 ],
 "metadata": {
  "kernelspec": {
   "display_name": "Python 3",
   "language": "python",
   "name": "python3"
  },
  "language_info": {
   "codemirror_mode": {
    "name": "ipython",
    "version": 3
   },
   "file_extension": ".py",
   "mimetype": "text/x-python",
   "name": "python",
   "nbconvert_exporter": "python",
   "pygments_lexer": "ipython3",
   "version": "3.6.8"
  }
 },
 "nbformat": 4,
 "nbformat_minor": 2
}
