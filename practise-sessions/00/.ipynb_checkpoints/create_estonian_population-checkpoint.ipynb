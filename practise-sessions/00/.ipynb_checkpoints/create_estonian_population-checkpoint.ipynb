{
 "cells": [
  {
   "cell_type": "code",
   "execution_count": 1,
   "metadata": {},
   "outputs": [],
   "source": [
    "import numpy as np\n",
    "import pandas as pd\n",
    "from pandas import DataFrame\n",
    "from pandas import read_csv"
   ]
  },
  {
   "cell_type": "code",
   "execution_count": 11,
   "metadata": {},
   "outputs": [],
   "source": [
    "df = (read_csv('estonian_population_0.csv')\n",
    "    .pipe(lambda df: df.loc[~df['Vanus'].isin(['Kokku', 'Vanus teadmata', '85 ja vanemad']), ['Vanus', 'Sugu', 'TIME', 'Value']])\n",
    "    .rename(columns = {'Vanus': 'Age', 'Sugu': 'Gender', 'TIME': 'Year', 'Value': 'Count'})\n",
    "    .assign(Age = lambda df: df['Age'].astype(int))\n",
    "    .mask(lambda df: df == 'Mehed ja naised', 'All') \n",
    "    .mask(lambda df: df == 'Mehed', 'Male')\n",
    "    .mask(lambda df: df == 'Naised', 'Female') \n",
    "    .set_index(['Year', 'Age', 'Gender'])\n",
    "    .unstack(['Year', 'Gender'])\n",
    "    .sort_index(axis = 0)\n",
    "    .sort_index(axis = 1))\n"
   ]
  },
  {
   "cell_type": "code",
   "execution_count": 13,
   "metadata": {},
   "outputs": [],
   "source": [
    "df.to_csv('estonian_population_2.csv')"
   ]
  }
 ],
 "metadata": {
  "kernelspec": {
   "display_name": "Python 3",
   "language": "python",
   "name": "python3"
  },
  "language_info": {
   "codemirror_mode": {
    "name": "ipython",
    "version": 3
   },
   "file_extension": ".py",
   "mimetype": "text/x-python",
   "name": "python",
   "nbconvert_exporter": "python",
   "pygments_lexer": "ipython3",
   "version": "3.6.8"
  }
 },
 "nbformat": 4,
 "nbformat_minor": 2
}
