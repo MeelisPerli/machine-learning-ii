{
 "cells": [
  {
   "cell_type": "code",
   "execution_count": 1,
   "metadata": {},
   "outputs": [],
   "source": [
    "import pandas as pd\n",
    "from pandas import read_csv"
   ]
  },
  {
   "cell_type": "code",
   "execution_count": 2,
   "metadata": {},
   "outputs": [],
   "source": [
    "df = read_csv('../data/hot_stuff.csv')\n",
    "df = df.loc[df['WeekID'].str.contains(r'18$'),:]"
   ]
  },
  {
   "cell_type": "code",
   "execution_count": 3,
   "metadata": {},
   "outputs": [],
   "source": [
    "(df\n",
    " .assign(Week = pd.to_datetime(df['WeekID']))\n",
    " .rename(columns = {'Week Position': 'Position', 'Previous Week Position': 'Previous Position'})\n",
    " .rename(columns = lambda x: x.lower().replace(' ', '_'))\n",
    " .reindex(columns = ['week', 'position', 'performer', 'song', 'instance', 'previous_position', 'peak_position', 'weeks_on_chart'])\n",
    " .sort_values(['week', 'position'])\n",
    " .reset_index(drop = True)\n",
    " .assign(previous_position = lambda df: df['previous_position'].astype(str).str.replace(r'\\..*', '').str.replace('nan', '-'))\n",
    ").to_csv('../billboard.csv', index = False)"
   ]
  }
 ],
 "metadata": {
  "kernelspec": {
   "display_name": "Python 3",
   "language": "python",
   "name": "python3"
  },
  "language_info": {
   "codemirror_mode": {
    "name": "ipython",
    "version": 3
   },
   "file_extension": ".py",
   "mimetype": "text/x-python",
   "name": "python",
   "nbconvert_exporter": "python",
   "pygments_lexer": "ipython3",
   "version": "3.6.8"
  }
 },
 "nbformat": 4,
 "nbformat_minor": 2
}
